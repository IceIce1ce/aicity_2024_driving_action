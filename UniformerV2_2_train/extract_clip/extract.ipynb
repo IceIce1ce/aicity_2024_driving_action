{
 "cells": [
  {
   "cell_type": "code",
   "execution_count": 2,
   "metadata": {},
   "outputs": [],
   "source": [
    "import clip\n",
    "import torch\n",
    "from collections import OrderedDict"
   ]
  },
  {
   "cell_type": "code",
   "execution_count": 3,
   "metadata": {},
   "outputs": [],
   "source": [
    "model, _ = clip.load(\"ViT-B/16\", device='cpu')\n",
    "new_state_dict = OrderedDict()\n",
    "for k, v in model.state_dict().items():\n",
    "    if 'visual.' in k:\n",
    "        if k[7:] not in [\"proj\", \"ln_post.weight\", \"ln_post.bias\"]:\n",
    "            new_state_dict[k[7:]] = v\n",
    "torch.save(new_state_dict, 'vit_b16.pth')"
   ]
  },
  {
   "cell_type": "code",
   "execution_count": 4,
   "metadata": {},
   "outputs": [
    {
     "name": "stderr",
     "output_type": "stream",
     "text": [
      "100%|███████████████████████████████████████| 890M/890M [01:39<00:00, 9.37MiB/s]\n"
     ]
    }
   ],
   "source": [
    "model, _ = clip.load(\"ViT-L/14\", device='cpu')\n",
    "new_state_dict = OrderedDict()\n",
    "for k, v in model.state_dict().items():\n",
    "    if 'visual.' in k:\n",
    "        if k[7:] not in [\"proj\", \"ln_post.weight\", \"ln_post.bias\"]:\n",
    "            new_state_dict[k[7:]] = v\n",
    "torch.save(new_state_dict, 'vit_l14.pth')"
   ]
  },
  {
   "cell_type": "code",
   "execution_count": null,
   "metadata": {},
   "outputs": [
    {
     "name": "stderr",
     "output_type": "stream",
     "text": [
      " 86%|█████████████████████████████████▍     | 765M/891M [01:44<00:36, 3.63MiB/s]"
     ]
    }
   ],
   "source": [
    "model, _ = clip.load(\"ViT-L/14@336px\", device='cpu')\n",
    "new_state_dict = OrderedDict()\n",
    "for k, v in model.state_dict().items():\n",
    "    if 'visual.' in k:\n",
    "        if k[7:] not in [\"proj\", \"ln_post.weight\", \"ln_post.bias\"]:\n",
    "            new_state_dict[k[7:]] = v\n",
    "torch.save(new_state_dict, 'vit_l14_336.pth')"
   ]
  },
  {
   "cell_type": "code",
   "execution_count": null,
   "metadata": {},
   "outputs": [],
   "source": []
  }
 ],
 "metadata": {
  "kernelspec": {
   "display_name": "Python 3 (ipykernel)",
   "language": "python",
   "name": "python3"
  },
  "language_info": {
   "codemirror_mode": {
    "name": "ipython",
    "version": 3
   },
   "file_extension": ".py",
   "mimetype": "text/x-python",
   "name": "python",
   "nbconvert_exporter": "python",
   "pygments_lexer": "ipython3",
   "version": "3.10.13"
  },
  "vscode": {
   "interpreter": {
    "hash": "541191e2b003f5dcae666b7cf47a8ce9f0862214fd45822d42fd05cca313f34a"
   }
  }
 },
 "nbformat": 4,
 "nbformat_minor": 4
}
